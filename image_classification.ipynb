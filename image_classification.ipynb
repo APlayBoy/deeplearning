{
 "cells": [
  {
   "cell_type": "markdown",
   "metadata": {
    "collapsed": true
   },
   "source": [
    "# 图像分类\n",
    "\n",
    "在此项目中，将对 [CIFAR-10 数据集]中的图片进行分类。该数据集包含飞机、猫狗和其他物体。首先对这些图片做了预处理，然后用所有样本训练一个卷积神经网络。图片需要标准化（normalized），标签需要采用 one-hot 编码。在项目中构建卷积的、最大池化（max pooling）、丢弃（dropout）和完全连接（fully connected）的层。最后，在样本图片上看到神经网络的预测结果。\n",
    "\n",
    "## 获取数据"
   ]
  },
  {
   "cell_type": "code",
   "execution_count": 1,
   "metadata": {},
   "outputs": [],
   "source": [
    "from urllib.request import urlretrieve\n",
    "from os.path import isfile, isdir\n",
    "from tqdm import tqdm\n",
    "import tarfile\n",
    "\n",
    "cifar10_dataset_folder_path = 'cifar-10-batches-py'\n",
    "\n",
    "floyd_cifar10_location = '/input/cifar-10/python.tar.gz'\n",
    "if isfile(floyd_cifar10_location):\n",
    "    tar_gz_path = floyd_cifar10_location\n",
    "else:\n",
    "    tar_gz_path = 'cifar-10-python.tar.gz'\n",
    "\n",
    "class DLProgress(tqdm):\n",
    "    last_block = 0\n",
    "\n",
    "    def hook(self, block_num=1, block_size=1, total_size=None):\n",
    "        self.total = total_size\n",
    "        self.update((block_num - self.last_block) * block_size)\n",
    "        self.last_block = block_num\n",
    "\n",
    "if not isfile(tar_gz_path):\n",
    "    with DLProgress(unit='B', unit_scale=True, miniters=1, desc='CIFAR-10 Dataset') as pbar:\n",
    "        urlretrieve(\n",
    "            'https://www.cs.toronto.edu/~kriz/cifar-10-python.tar.gz',\n",
    "            tar_gz_path,\n",
    "            pbar.hook)\n",
    "\n",
    "if not isdir(cifar10_dataset_folder_path):\n",
    "    with tarfile.open(tar_gz_path) as tar:\n",
    "        tar.extractall()\n",
    "        tar.close()\n"
   ]
  },
  {
   "cell_type": "markdown",
   "metadata": {},
   "source": [
    "## 探索数据\n",
    "\n",
    "该数据集分成了几部分／批次（batches），可以避免机器在计算时内存不足。CIFAR-10 数据集包含 5 个部分，名称分别为 `data_batch_1`、`data_batch_2`，以此类推。每个部分都包含以下某个类别的标签和图片：\n",
    "\n",
    "* 飞机\n",
    "* 汽车\n",
    "* 鸟类\n",
    "* 猫\n",
    "* 鹿\n",
    "* 狗\n",
    "* 青蛙\n",
    "* 马\n",
    "* 船只\n",
    "* 卡车"
   ]
  },
  {
   "cell_type": "code",
   "execution_count": 2,
   "metadata": {},
   "outputs": [
    {
     "name": "stdout",
     "output_type": "stream",
     "text": [
      "\n",
      "Stats of batch 1:\n",
      "Samples: 10000\n",
      "Label Counts: {0: 1005, 1: 974, 2: 1032, 3: 1016, 4: 999, 5: 937, 6: 1030, 7: 1001, 8: 1025, 9: 981}\n",
      "First 20 Labels: [6, 9, 9, 4, 1, 1, 2, 7, 8, 3, 4, 7, 7, 2, 9, 9, 9, 3, 2, 6]\n",
      "\n",
      "Example of Image 5:\n",
      "Image - Min Value: 0 Max Value: 252\n",
      "Image - Shape: (32, 32, 3)\n",
      "Label - Label Id: 1 Name: automobile\n"
     ]
    }
   ],
   "source": [
    "import helper\n",
    "import numpy as np\n",
    "\n",
    "batch_id = 1\n",
    "sample_id = 5\n",
    "helper.display_stats(cifar10_dataset_folder_path, batch_id, sample_id)"
   ]
  },
  {
   "cell_type": "markdown",
   "metadata": {},
   "source": [
    "## 实现预处理函数\n",
    "\n",
    "### 标准化"
   ]
  },
  {
   "cell_type": "code",
   "execution_count": 3,
   "metadata": {},
   "outputs": [],
   "source": [
    "def normalize(x):\n",
    "    \"\"\"\n",
    "    Normalize a list of sample image data in the range of 0 to 1\n",
    "    : x: List of image data.  The image shape is (32, 32, 3)\n",
    "    : return: Numpy array of normalize data\n",
    "    \"\"\"\n",
    "    return x / 255"
   ]
  },
  {
   "cell_type": "markdown",
   "metadata": {},
   "source": [
    "### One-hot 编码"
   ]
  },
  {
   "cell_type": "code",
   "execution_count": 4,
   "metadata": {},
   "outputs": [],
   "source": [
    "def one_hot_encode(x):\n",
    "    \"\"\"\n",
    "    One hot encode a list of sample labels. Return a one-hot encoded vector for each label.\n",
    "    : x: List of sample Labels\n",
    "    : return: Numpy array of one-hot encoded labels\n",
    "    \"\"\"\n",
    "    return np.array([[1 if j==i else 0 for j in range(10)] for i in x])"
   ]
  },
  {
   "cell_type": "markdown",
   "metadata": {},
   "source": [
    "### 随机化数据\n",
    "\n",
    "在之前探索数据时，已经了解到，样本的顺序是随机的。再随机化一次也不会有什么关系，但是对于这个数据集没有必要。\n"
   ]
  },
  {
   "cell_type": "markdown",
   "metadata": {},
   "source": [
    "## 预处理所有数据并保存\n",
    "\n",
    "运行下方的代码单元，将预处理所有 CIFAR-10 数据，并保存到文件中。下面的代码还使用了 10% 的训练数据，用来验证。\n"
   ]
  },
  {
   "cell_type": "code",
   "execution_count": 5,
   "metadata": {},
   "outputs": [],
   "source": [
    "# Preprocess Training, Validation, and Testing Data\n",
    "helper.preprocess_and_save_data(cifar10_dataset_folder_path, normalize, one_hot_encode)"
   ]
  },
  {
   "cell_type": "markdown",
   "metadata": {},
   "source": [
    "# 检查点\n",
    "\n",
    "在这里设置了第一个检查点。如果你什么时候决定再回到该记事本，或需要重新启动该记事本，你可以从这里开始。预处理的数据已保存到本地。\n"
   ]
  },
  {
   "cell_type": "code",
   "execution_count": 6,
   "metadata": {},
   "outputs": [],
   "source": [
    "import pickle\n",
    "import problem_unittests as tests\n",
    "import helper\n",
    "\n",
    "# Load the Preprocessed Validation data\n",
    "valid_features, valid_labels = pickle.load(open('preprocess_validation.p', mode='rb'))"
   ]
  },
  {
   "cell_type": "markdown",
   "metadata": {},
   "source": [
    "## 构建网络\n",
    "\n",
    "### 输入"
   ]
  },
  {
   "cell_type": "code",
   "execution_count": 7,
   "metadata": {},
   "outputs": [],
   "source": [
    "import tensorflow as tf\n",
    "\n",
    "def neural_net_image_input(image_shape):\n",
    "    \"\"\"\n",
    "    Return a Tensor for a batch of image input\n",
    "    : image_shape: Shape of the images\n",
    "    : return: Tensor for image input.\n",
    "    \"\"\"\n",
    "    return tf.placeholder(tf.float32, [None, image_shape[0], image_shape[1], image_shape[2]],name=\"x\")\n",
    "\n",
    "\n",
    "def neural_net_label_input(n_classes):\n",
    "    \"\"\"\n",
    "    Return a Tensor for a batch of label input\n",
    "    : n_classes: Number of classes\n",
    "    : return: Tensor for label input.\n",
    "    \"\"\"\n",
    "    return tf.placeholder(tf.float32, [None, n_classes],name=\"y\")\n",
    "\n",
    "\n",
    "def neural_net_keep_prob_input():\n",
    "    \"\"\"\n",
    "    Return a Tensor for keep probability\n",
    "    : return: Tensor for keep probability.\n",
    "    \"\"\"\n",
    "    return tf.placeholder(tf.float32,name=\"keep_prob\")\n",
    "\n",
    "tf.reset_default_graph()\n"
   ]
  },
  {
   "cell_type": "markdown",
   "metadata": {},
   "source": [
    "### 卷积和最大池化层"
   ]
  },
  {
   "cell_type": "code",
   "execution_count": 8,
   "metadata": {},
   "outputs": [],
   "source": [
    "def conv2d_maxpool(x_tensor, conv_num_outputs, conv_ksize, conv_strides, pool_ksize, pool_strides):\n",
    "    \"\"\"\n",
    "    Apply convolution then max pooling to x_tensor\n",
    "    :param x_tensor: TensorFlow Tensor\n",
    "    :param conv_num_outputs: Number of outputs for the convolutional layer\n",
    "    :param conv_ksize: kernal size 2-D Tuple for the convolutional layer\n",
    "    :param conv_strides: Stride 2-D Tuple for convolution\n",
    "    :param pool_ksize: kernal size 2-D Tuple for pool\n",
    "    :param pool_strides: Stride 2-D Tuple for pool\n",
    "    : return: A tensor that represents convolution and max pooling of x_tensor\n",
    "    \"\"\"\n",
    "    filter_weights = tf.Variable(\n",
    "        tf.truncated_normal([conv_ksize[0], conv_ksize[1], x_tensor.get_shape().as_list()[3], conv_num_outputs]\n",
    "#                         ,stddev = 1.0/ conv_ksize[0] / conv_ksize[1] / x_tensor.get_shape().as_list()[3]  )\n",
    "                             )/np.sqrt(conv_ksize[0] * conv_ksize[1] * x_tensor.get_shape().as_list()[3] )\n",
    "    )  # (height, width, input_depth, output_depth)\n",
    "    filter_bias = tf.Variable(tf.zeros(conv_num_outputs))\n",
    "    strides = conv_strides  # (batch, height, width, depth)\n",
    "    strides = (1, conv_strides[0], conv_strides[1], 1)\n",
    "    padding = 'SAME'\n",
    "    conv = tf.nn.conv2d(x_tensor, filter_weights, strides, padding) + filter_bias\n",
    "    conv = tf.nn.relu(conv)\n",
    "\n",
    "    filter_shape = [1, pool_ksize[0], pool_ksize[1], 1]\n",
    "    strides = [1, pool_strides[0], pool_strides[1], 1]\n",
    "    padding = 'SAME'\n",
    "    pool = tf.nn.max_pool(conv, filter_shape, strides, padding)\n",
    "\n",
    "    return pool \n"
   ]
  },
  {
   "cell_type": "markdown",
   "metadata": {},
   "source": [
    "### 扁平化层"
   ]
  },
  {
   "cell_type": "code",
   "execution_count": 9,
   "metadata": {},
   "outputs": [],
   "source": [
    "def flatten(x_tensor):\n",
    "    \"\"\"\n",
    "    Flatten x_tensor to (Batch Size, Flattened Image Size)\n",
    "    : x_tensor: A tensor of size (Batch Size, ...), where ... are the image dimensions.\n",
    "    : return: A tensor of size (Batch Size, Flattened Image Size).\n",
    "    \"\"\"\n",
    "    x_shape = x_tensor.get_shape().as_list()\n",
    "    return tf.reshape(x_tensor, [-1, x_shape[1]*x_shape[2]*x_shape[3]])\n",
    "\n"
   ]
  },
  {
   "cell_type": "markdown",
   "metadata": {},
   "source": [
    "### 完全连接的层"
   ]
  },
  {
   "cell_type": "code",
   "execution_count": 10,
   "metadata": {},
   "outputs": [],
   "source": [
    "def fully_conn(x_tensor, num_outputs):\n",
    "    \"\"\"\n",
    "    Apply a fully connected layer to x_tensor using weight and bias\n",
    "    : x_tensor: A 2-D tensor where the first dimension is batch size.\n",
    "    : num_outputs: The number of output that the new tensor should be.\n",
    "    : return: A 2-D tensor where the second dimension is num_outputs.\n",
    "    \"\"\"\n",
    "#     w = tf.Variable(tf.random_normal([x_tensor.get_shape().as_list()[1], num_outputs],stddev=1.0/x_tensor.get_shape().as_list()[1]))\n",
    "    w = tf.Variable(tf.truncated_normal([x_tensor.get_shape().as_list()[1], num_outputs])/np.sqrt(x_tensor.get_shape().as_list()[1]))\n",
    "\n",
    "    b = tf.Variable(tf.truncated_normal([num_outputs]))\n",
    "    dense1 = tf.nn.relu(tf.add(tf.matmul(x_tensor, w), b))\n",
    "    return dense1\n"
   ]
  },
  {
   "cell_type": "markdown",
   "metadata": {},
   "source": [
    "### 输出层"
   ]
  },
  {
   "cell_type": "code",
   "execution_count": 11,
   "metadata": {},
   "outputs": [],
   "source": [
    "def output(x_tensor, num_outputs):\n",
    "    \"\"\"\n",
    "    Apply a output layer to x_tensor using weight and bias\n",
    "    : x_tensor: A 2-D tensor where the first dimension is batch size.\n",
    "    : num_outputs: The number of output that the new tensor should be.\n",
    "    : return: A 2-D tensor where the second dimension is num_outputs.\n",
    "    \"\"\"\n",
    "#     w = tf.Variable(tf.random_normal([x_tensor.get_shape().as_list()[1], num_outputs],stddev = 1.0/x_tensor.get_shape().as_list()[1]))\n",
    "    w = tf.Variable(tf.random_normal([x_tensor.get_shape().as_list()[1], num_outputs])/np.sqrt(x_tensor.get_shape().as_list()[1]))\n",
    "\n",
    "    b = tf.Variable(tf.random_normal([num_outputs]))\n",
    "    out = tf.matmul(x_tensor, w) + b\n",
    "    return out"
   ]
  },
  {
   "cell_type": "markdown",
   "metadata": {},
   "source": [
    "### 创建卷积模型"
   ]
  },
  {
   "cell_type": "code",
   "execution_count": 12,
   "metadata": {},
   "outputs": [],
   "source": [
    "def conv_net(x, keep_prob):\n",
    "    \"\"\"\n",
    "    Create a convolutional neural network model\n",
    "    : x: Placeholder tensor that holds image data.\n",
    "    : keep_prob: Placeholder tensor that hold dropout keep probability.\n",
    "    : return: Tensor that represents logits\n",
    "    \"\"\"\n",
    "    # Apply3 Convolution and Max Pool layers\n",
    "    conv1 = conv2d_maxpool(x, 16, [3, 3], [1,1], [2,2], [2,2])\n",
    "    conv2 = conv2d_maxpool(conv1, 32, [3, 3], [1, 1], [2, 2], [2, 2])\n",
    "    conv3 = conv2d_maxpool(conv2, 64, [2, 2], [1, 1], [2, 2], [2, 2])\n",
    "\n",
    "    # Apply a Flatten Layer\n",
    "    dense1 = flatten(conv3)\n",
    "\n",
    "    #Apply3 Fully Connected Layers\n",
    "    dense1 = fully_conn(dense1, 512)\n",
    "    dense1 = tf.nn.dropout(dense1,keep_prob)\n",
    "    dense2 = fully_conn(dense1, 256)\n",
    "    dense2 = tf.nn.dropout(dense2,keep_prob)\n",
    "    dense3 = fully_conn(dense2, 128)\n",
    "    dense3 = tf.nn.dropout(dense2,keep_prob)\n",
    "    \n",
    "    # Apply an Output Layer\n",
    "    out = output(dense2,10)\n",
    "    \n",
    "    return out\n",
    "\n",
    "# Build the Neural Network \n",
    "\n",
    "# Remove previous weights, bias, inputs, etc..\n",
    "tf.reset_default_graph()\n",
    "\n",
    "# Inputs\n",
    "x = neural_net_image_input((32, 32, 3))\n",
    "y = neural_net_label_input(10)\n",
    "keep_prob = neural_net_keep_prob_input()\n",
    "\n",
    "# Model\n",
    "logits = conv_net(x, keep_prob)\n",
    "\n",
    "# Name logits Tensor, so that is can be loaded from disk after training\n",
    "logits = tf.identity(logits, name='logits')\n",
    "\n",
    "# Loss and Optimizer\n",
    "cost = tf.reduce_mean(tf.nn.softmax_cross_entropy_with_logits(logits=logits, labels=y))\n",
    "optimizer = tf.train.AdamOptimizer().minimize(cost)\n",
    "\n",
    "# Accuracy\n",
    "correct_pred = tf.equal(tf.argmax(logits, 1), tf.argmax(y, 1))\n",
    "accuracy = tf.reduce_mean(tf.cast(correct_pred, tf.float32), name='accuracy')\n"
   ]
  },
  {
   "cell_type": "markdown",
   "metadata": {},
   "source": [
    "## 训练神经网络\n",
    "\n",
    "### 单次优化"
   ]
  },
  {
   "cell_type": "code",
   "execution_count": 13,
   "metadata": {},
   "outputs": [],
   "source": [
    "def train_neural_network(session, optimizer, keep_probability, feature_batch, label_batch):\n",
    "    \"\"\"\n",
    "    Optimize the session on a batch of images and labels\n",
    "    : session: Current TensorFlow session\n",
    "    : optimizer: TensorFlow optimizer function\n",
    "    : keep_probability: keep probability\n",
    "    : feature_batch: Batch of Numpy image data\n",
    "    : label_batch: Batch of Numpy label data\n",
    "    \"\"\"\n",
    "    session.run(optimizer, feed_dict={x:feature_batch,y:label_batch,keep_prob:keep_probability})\n",
    "  "
   ]
  },
  {
   "cell_type": "markdown",
   "metadata": {},
   "source": [
    "### 显示数据"
   ]
  },
  {
   "cell_type": "code",
   "execution_count": 14,
   "metadata": {},
   "outputs": [],
   "source": [
    "def print_stats(session, feature_batch, label_batch, cost, accuracy):\n",
    "    \"\"\"\n",
    "    Print information about loss and validation accuracy\n",
    "    : session: Current TensorFlow session\n",
    "    : feature_batch: Batch of Numpy image data\n",
    "    : label_batch: Batch of Numpy label data\n",
    "    : cost: TensorFlow cost function\n",
    "    : accuracy: TensorFlow accuracy function\n",
    "    \"\"\"\n",
    "    loss = sess.run(cost ,feed_dict = {x:feature_batch,y:label_batch,keep_prob:1.})\n",
    "    acc = sess.run(accuracy, feed_dict={x:valid_features,y:valid_labels,keep_prob:1.})\n",
    "    print(\"Loss = \" + \"{:>5.4f}\".format(loss) + \", Validation Accuracy = \" + \"{:.6f}\".format(acc))\n"
   ]
  },
  {
   "cell_type": "markdown",
   "metadata": {},
   "source": [
    "### 超参数"
   ]
  },
  {
   "cell_type": "code",
   "execution_count": 15,
   "metadata": {},
   "outputs": [],
   "source": [
    "epochs = 35\n",
    "batch_size = 128\n",
    "keep_probability = 0.6"
   ]
  },
  {
   "cell_type": "markdown",
   "metadata": {},
   "source": [
    "### 在单个 CIFAR-10 部分上训练"
   ]
  },
  {
   "cell_type": "code",
   "execution_count": 16,
   "metadata": {},
   "outputs": [
    {
     "name": "stdout",
     "output_type": "stream",
     "text": [
      "Checking the Training on a Single Batch...\n",
      "Epoch  1, CIFAR-10 Batch 1:  Loss = 2.0804, Validation Accuracy = 0.276800\n",
      "Epoch  2, CIFAR-10 Batch 1:  Loss = 1.8315, Validation Accuracy = 0.415000\n",
      "Epoch  3, CIFAR-10 Batch 1:  Loss = 1.6606, Validation Accuracy = 0.447400\n",
      "Epoch  4, CIFAR-10 Batch 1:  Loss = 1.5067, Validation Accuracy = 0.476400\n",
      "Epoch  5, CIFAR-10 Batch 1:  Loss = 1.3877, Validation Accuracy = 0.491200\n",
      "Epoch  6, CIFAR-10 Batch 1:  Loss = 1.2697, Validation Accuracy = 0.517200\n",
      "Epoch  7, CIFAR-10 Batch 1:  Loss = 1.2280, Validation Accuracy = 0.515000\n",
      "Epoch  8, CIFAR-10 Batch 1:  Loss = 1.0749, Validation Accuracy = 0.536600\n",
      "Epoch  9, CIFAR-10 Batch 1:  Loss = 0.9980, Validation Accuracy = 0.543800\n",
      "Epoch 10, CIFAR-10 Batch 1:  Loss = 0.9438, Validation Accuracy = 0.551200\n",
      "Epoch 11, CIFAR-10 Batch 1:  Loss = 0.8721, Validation Accuracy = 0.551800\n",
      "Epoch 12, CIFAR-10 Batch 1:  Loss = 0.7863, Validation Accuracy = 0.572200\n",
      "Epoch 13, CIFAR-10 Batch 1:  Loss = 0.7380, Validation Accuracy = 0.586400\n",
      "Epoch 14, CIFAR-10 Batch 1:  Loss = 0.6246, Validation Accuracy = 0.596400\n",
      "Epoch 15, CIFAR-10 Batch 1:  Loss = 0.6059, Validation Accuracy = 0.596800\n",
      "Epoch 16, CIFAR-10 Batch 1:  Loss = 0.5333, Validation Accuracy = 0.601800\n",
      "Epoch 17, CIFAR-10 Batch 1:  Loss = 0.4512, Validation Accuracy = 0.606400\n",
      "Epoch 18, CIFAR-10 Batch 1:  Loss = 0.4102, Validation Accuracy = 0.601800\n",
      "Epoch 19, CIFAR-10 Batch 1:  Loss = 0.3480, Validation Accuracy = 0.601200\n",
      "Epoch 20, CIFAR-10 Batch 1:  Loss = 0.3082, Validation Accuracy = 0.608800\n",
      "Epoch 21, CIFAR-10 Batch 1:  Loss = 0.2937, Validation Accuracy = 0.603800\n",
      "Epoch 22, CIFAR-10 Batch 1:  Loss = 0.2252, Validation Accuracy = 0.610600\n",
      "Epoch 23, CIFAR-10 Batch 1:  Loss = 0.2028, Validation Accuracy = 0.608800\n",
      "Epoch 24, CIFAR-10 Batch 1:  Loss = 0.1502, Validation Accuracy = 0.601200\n",
      "Epoch 25, CIFAR-10 Batch 1:  Loss = 0.1322, Validation Accuracy = 0.602200\n",
      "Epoch 26, CIFAR-10 Batch 1:  Loss = 0.1519, Validation Accuracy = 0.573200\n",
      "Epoch 27, CIFAR-10 Batch 1:  Loss = 0.1182, Validation Accuracy = 0.595600\n",
      "Epoch 28, CIFAR-10 Batch 1:  Loss = 0.0932, Validation Accuracy = 0.579600\n",
      "Epoch 29, CIFAR-10 Batch 1:  Loss = 0.1060, Validation Accuracy = 0.590400\n",
      "Epoch 30, CIFAR-10 Batch 1:  Loss = 0.0863, Validation Accuracy = 0.590400\n",
      "Epoch 31, CIFAR-10 Batch 1:  Loss = 0.0453, Validation Accuracy = 0.589000\n",
      "Epoch 32, CIFAR-10 Batch 1:  Loss = 0.0572, Validation Accuracy = 0.572400\n",
      "Epoch 33, CIFAR-10 Batch 1:  Loss = 0.0382, Validation Accuracy = 0.588600\n",
      "Epoch 34, CIFAR-10 Batch 1:  Loss = 0.0342, Validation Accuracy = 0.588000\n",
      "Epoch 35, CIFAR-10 Batch 1:  Loss = 0.0369, Validation Accuracy = 0.611200\n"
     ]
    }
   ],
   "source": [
    "print('Checking the Training on a Single Batch...')\n",
    "with tf.Session() as sess:\n",
    "    # Initializing the variables\n",
    "    sess.run(tf.global_variables_initializer())\n",
    "    \n",
    "    # Training cycle\n",
    "    for epoch in range(epochs):\n",
    "        batch_i = 1\n",
    "        for batch_features, batch_labels in helper.load_preprocess_training_batch(batch_i, batch_size):\n",
    "            train_neural_network(sess, optimizer, keep_probability, batch_features, batch_labels)\n",
    "        print('Epoch {:>2}, CIFAR-10 Batch {}:  '.format(epoch + 1, batch_i), end='')\n",
    "        print_stats(sess, batch_features, batch_labels, cost, accuracy)"
   ]
  },
  {
   "cell_type": "markdown",
   "metadata": {},
   "source": [
    "### 完全训练模型\n",
    "\n",
    "现在，单个 CIFAR-10 部分的准确率已经不错了，再试试所有五个部分吧。"
   ]
  },
  {
   "cell_type": "code",
   "execution_count": 17,
   "metadata": {},
   "outputs": [
    {
     "name": "stdout",
     "output_type": "stream",
     "text": [
      "Training...\n",
      "Epoch  1, CIFAR-10 Batch 1:  Loss = 2.0104, Validation Accuracy = 0.346200\n",
      "Epoch  1, CIFAR-10 Batch 2:  Loss = 1.6712, Validation Accuracy = 0.401000\n",
      "Epoch  1, CIFAR-10 Batch 3:  Loss = 1.3602, Validation Accuracy = 0.428200\n",
      "Epoch  1, CIFAR-10 Batch 4:  Loss = 1.4970, Validation Accuracy = 0.433600\n",
      "Epoch  1, CIFAR-10 Batch 5:  Loss = 1.4175, Validation Accuracy = 0.501400\n",
      "Epoch  2, CIFAR-10 Batch 1:  Loss = 1.4786, Validation Accuracy = 0.510400\n",
      "Epoch  2, CIFAR-10 Batch 2:  Loss = 1.2549, Validation Accuracy = 0.502600\n",
      "Epoch  2, CIFAR-10 Batch 3:  Loss = 1.0669, Validation Accuracy = 0.516200\n",
      "Epoch  2, CIFAR-10 Batch 4:  Loss = 1.1575, Validation Accuracy = 0.550200\n",
      "Epoch  2, CIFAR-10 Batch 5:  Loss = 1.1585, Validation Accuracy = 0.569400\n",
      "Epoch  3, CIFAR-10 Batch 1:  Loss = 1.2518, Validation Accuracy = 0.570000\n",
      "Epoch  3, CIFAR-10 Batch 2:  Loss = 1.1159, Validation Accuracy = 0.578600\n",
      "Epoch  3, CIFAR-10 Batch 3:  Loss = 0.9076, Validation Accuracy = 0.569000\n",
      "Epoch  3, CIFAR-10 Batch 4:  Loss = 0.9768, Validation Accuracy = 0.593400\n",
      "Epoch  3, CIFAR-10 Batch 5:  Loss = 0.9872, Validation Accuracy = 0.598000\n",
      "Epoch  4, CIFAR-10 Batch 1:  Loss = 1.1205, Validation Accuracy = 0.606000\n",
      "Epoch  4, CIFAR-10 Batch 2:  Loss = 0.9703, Validation Accuracy = 0.619800\n",
      "Epoch  4, CIFAR-10 Batch 3:  Loss = 0.8012, Validation Accuracy = 0.614200\n",
      "Epoch  4, CIFAR-10 Batch 4:  Loss = 0.8756, Validation Accuracy = 0.608400\n",
      "Epoch  4, CIFAR-10 Batch 5:  Loss = 0.8944, Validation Accuracy = 0.620600\n",
      "Epoch  5, CIFAR-10 Batch 1:  Loss = 0.8992, Validation Accuracy = 0.616200\n",
      "Epoch  5, CIFAR-10 Batch 2:  Loss = 0.7669, Validation Accuracy = 0.644000\n",
      "Epoch  5, CIFAR-10 Batch 3:  Loss = 0.7020, Validation Accuracy = 0.642200\n",
      "Epoch  5, CIFAR-10 Batch 4:  Loss = 0.7333, Validation Accuracy = 0.648800\n",
      "Epoch  5, CIFAR-10 Batch 5:  Loss = 0.7317, Validation Accuracy = 0.655600\n",
      "Epoch  6, CIFAR-10 Batch 1:  Loss = 0.7657, Validation Accuracy = 0.642200\n",
      "Epoch  6, CIFAR-10 Batch 2:  Loss = 0.6854, Validation Accuracy = 0.658400\n",
      "Epoch  6, CIFAR-10 Batch 3:  Loss = 0.5580, Validation Accuracy = 0.662200\n",
      "Epoch  6, CIFAR-10 Batch 4:  Loss = 0.5982, Validation Accuracy = 0.675800\n",
      "Epoch  6, CIFAR-10 Batch 5:  Loss = 0.6250, Validation Accuracy = 0.669400\n",
      "Epoch  7, CIFAR-10 Batch 1:  Loss = 0.7019, Validation Accuracy = 0.642000\n",
      "Epoch  7, CIFAR-10 Batch 2:  Loss = 0.6185, Validation Accuracy = 0.665400\n",
      "Epoch  7, CIFAR-10 Batch 3:  Loss = 0.5207, Validation Accuracy = 0.676000\n",
      "Epoch  7, CIFAR-10 Batch 4:  Loss = 0.5234, Validation Accuracy = 0.673800\n",
      "Epoch  7, CIFAR-10 Batch 5:  Loss = 0.5099, Validation Accuracy = 0.675400\n",
      "Epoch  8, CIFAR-10 Batch 1:  Loss = 0.5571, Validation Accuracy = 0.672400\n",
      "Epoch  8, CIFAR-10 Batch 2:  Loss = 0.5339, Validation Accuracy = 0.678000\n",
      "Epoch  8, CIFAR-10 Batch 3:  Loss = 0.4056, Validation Accuracy = 0.686800\n",
      "Epoch  8, CIFAR-10 Batch 4:  Loss = 0.4336, Validation Accuracy = 0.684600\n",
      "Epoch  8, CIFAR-10 Batch 5:  Loss = 0.5260, Validation Accuracy = 0.672800\n",
      "Epoch  9, CIFAR-10 Batch 1:  Loss = 0.4460, Validation Accuracy = 0.687800\n",
      "Epoch  9, CIFAR-10 Batch 2:  Loss = 0.4642, Validation Accuracy = 0.695400\n",
      "Epoch  9, CIFAR-10 Batch 3:  Loss = 0.3541, Validation Accuracy = 0.683000\n",
      "Epoch  9, CIFAR-10 Batch 4:  Loss = 0.3546, Validation Accuracy = 0.687200\n",
      "Epoch  9, CIFAR-10 Batch 5:  Loss = 0.4568, Validation Accuracy = 0.677400\n",
      "Epoch 10, CIFAR-10 Batch 1:  Loss = 0.3725, Validation Accuracy = 0.695400\n",
      "Epoch 10, CIFAR-10 Batch 2:  Loss = 0.4074, Validation Accuracy = 0.695200\n",
      "Epoch 10, CIFAR-10 Batch 3:  Loss = 0.2704, Validation Accuracy = 0.703000\n",
      "Epoch 10, CIFAR-10 Batch 4:  Loss = 0.2999, Validation Accuracy = 0.694600\n",
      "Epoch 10, CIFAR-10 Batch 5:  Loss = 0.3813, Validation Accuracy = 0.694400\n",
      "Epoch 11, CIFAR-10 Batch 1:  Loss = 0.3282, Validation Accuracy = 0.695000\n",
      "Epoch 11, CIFAR-10 Batch 2:  Loss = 0.3238, Validation Accuracy = 0.700600\n",
      "Epoch 11, CIFAR-10 Batch 3:  Loss = 0.2571, Validation Accuracy = 0.701600\n",
      "Epoch 11, CIFAR-10 Batch 4:  Loss = 0.2682, Validation Accuracy = 0.699400\n",
      "Epoch 11, CIFAR-10 Batch 5:  Loss = 0.3119, Validation Accuracy = 0.701800\n",
      "Epoch 12, CIFAR-10 Batch 1:  Loss = 0.3228, Validation Accuracy = 0.707200\n",
      "Epoch 12, CIFAR-10 Batch 2:  Loss = 0.2588, Validation Accuracy = 0.705200\n",
      "Epoch 12, CIFAR-10 Batch 3:  Loss = 0.2395, Validation Accuracy = 0.713200\n",
      "Epoch 12, CIFAR-10 Batch 4:  Loss = 0.2454, Validation Accuracy = 0.702600\n",
      "Epoch 12, CIFAR-10 Batch 5:  Loss = 0.3082, Validation Accuracy = 0.716400\n",
      "Epoch 13, CIFAR-10 Batch 1:  Loss = 0.2600, Validation Accuracy = 0.699000\n",
      "Epoch 13, CIFAR-10 Batch 2:  Loss = 0.2454, Validation Accuracy = 0.697200\n",
      "Epoch 13, CIFAR-10 Batch 3:  Loss = 0.1881, Validation Accuracy = 0.703200\n",
      "Epoch 13, CIFAR-10 Batch 4:  Loss = 0.2109, Validation Accuracy = 0.706200\n",
      "Epoch 13, CIFAR-10 Batch 5:  Loss = 0.2416, Validation Accuracy = 0.711200\n",
      "Epoch 14, CIFAR-10 Batch 1:  Loss = 0.2159, Validation Accuracy = 0.705400\n",
      "Epoch 14, CIFAR-10 Batch 2:  Loss = 0.2425, Validation Accuracy = 0.707000\n",
      "Epoch 14, CIFAR-10 Batch 3:  Loss = 0.1727, Validation Accuracy = 0.714600\n",
      "Epoch 14, CIFAR-10 Batch 4:  Loss = 0.1781, Validation Accuracy = 0.715600\n",
      "Epoch 14, CIFAR-10 Batch 5:  Loss = 0.2064, Validation Accuracy = 0.720400\n",
      "Epoch 15, CIFAR-10 Batch 1:  Loss = 0.1786, Validation Accuracy = 0.713200\n",
      "Epoch 15, CIFAR-10 Batch 2:  Loss = 0.2064, Validation Accuracy = 0.702000\n",
      "Epoch 15, CIFAR-10 Batch 3:  Loss = 0.1472, Validation Accuracy = 0.715800\n",
      "Epoch 15, CIFAR-10 Batch 4:  Loss = 0.1672, Validation Accuracy = 0.704000\n",
      "Epoch 15, CIFAR-10 Batch 5:  Loss = 0.1856, Validation Accuracy = 0.712200\n",
      "Epoch 16, CIFAR-10 Batch 1:  Loss = 0.2001, Validation Accuracy = 0.718200\n",
      "Epoch 16, CIFAR-10 Batch 2:  Loss = 0.1730, Validation Accuracy = 0.709200\n",
      "Epoch 16, CIFAR-10 Batch 3:  Loss = 0.1401, Validation Accuracy = 0.717000\n",
      "Epoch 16, CIFAR-10 Batch 4:  Loss = 0.1411, Validation Accuracy = 0.708800\n",
      "Epoch 16, CIFAR-10 Batch 5:  Loss = 0.1881, Validation Accuracy = 0.715400\n",
      "Epoch 17, CIFAR-10 Batch 1:  Loss = 0.1471, Validation Accuracy = 0.723200\n",
      "Epoch 17, CIFAR-10 Batch 2:  Loss = 0.1454, Validation Accuracy = 0.708200\n",
      "Epoch 17, CIFAR-10 Batch 3:  Loss = 0.1376, Validation Accuracy = 0.717600\n",
      "Epoch 17, CIFAR-10 Batch 4:  Loss = 0.1457, Validation Accuracy = 0.714800\n",
      "Epoch 17, CIFAR-10 Batch 5:  Loss = 0.1797, Validation Accuracy = 0.718400\n",
      "Epoch 18, CIFAR-10 Batch 1:  Loss = 0.1240, Validation Accuracy = 0.715200\n",
      "Epoch 18, CIFAR-10 Batch 2:  Loss = 0.1372, Validation Accuracy = 0.715600\n",
      "Epoch 18, CIFAR-10 Batch 3:  Loss = 0.1227, Validation Accuracy = 0.717000\n",
      "Epoch 18, CIFAR-10 Batch 4:  Loss = 0.1373, Validation Accuracy = 0.720000\n",
      "Epoch 18, CIFAR-10 Batch 5:  Loss = 0.1258, Validation Accuracy = 0.718200\n",
      "Epoch 19, CIFAR-10 Batch 1:  Loss = 0.1021, Validation Accuracy = 0.717600\n",
      "Epoch 19, CIFAR-10 Batch 2:  Loss = 0.1099, Validation Accuracy = 0.723400\n",
      "Epoch 19, CIFAR-10 Batch 3:  Loss = 0.1189, Validation Accuracy = 0.704000\n",
      "Epoch 19, CIFAR-10 Batch 4:  Loss = 0.1025, Validation Accuracy = 0.702400\n",
      "Epoch 19, CIFAR-10 Batch 5:  Loss = 0.1413, Validation Accuracy = 0.726200\n",
      "Epoch 20, CIFAR-10 Batch 1:  Loss = 0.1059, Validation Accuracy = 0.719600\n",
      "Epoch 20, CIFAR-10 Batch 2:  Loss = 0.0980, Validation Accuracy = 0.721400\n",
      "Epoch 20, CIFAR-10 Batch 3:  Loss = 0.1097, Validation Accuracy = 0.700200\n",
      "Epoch 20, CIFAR-10 Batch 4:  Loss = 0.0978, Validation Accuracy = 0.715800\n",
      "Epoch 20, CIFAR-10 Batch 5:  Loss = 0.1089, Validation Accuracy = 0.724400\n",
      "Epoch 21, CIFAR-10 Batch 1:  Loss = 0.0977, Validation Accuracy = 0.719600\n",
      "Epoch 21, CIFAR-10 Batch 2:  Loss = 0.1003, Validation Accuracy = 0.709800\n",
      "Epoch 21, CIFAR-10 Batch 3:  Loss = 0.1230, Validation Accuracy = 0.713800\n",
      "Epoch 21, CIFAR-10 Batch 4:  Loss = 0.1012, Validation Accuracy = 0.709600\n",
      "Epoch 21, CIFAR-10 Batch 5:  Loss = 0.0949, Validation Accuracy = 0.718200\n",
      "Epoch 22, CIFAR-10 Batch 1:  Loss = 0.0814, Validation Accuracy = 0.723400\n",
      "Epoch 22, CIFAR-10 Batch 2:  Loss = 0.1067, Validation Accuracy = 0.719200\n",
      "Epoch 22, CIFAR-10 Batch 3:  Loss = 0.0963, Validation Accuracy = 0.706600\n",
      "Epoch 22, CIFAR-10 Batch 4:  Loss = 0.0783, Validation Accuracy = 0.721000\n",
      "Epoch 22, CIFAR-10 Batch 5:  Loss = 0.0773, Validation Accuracy = 0.719200\n"
     ]
    },
    {
     "name": "stdout",
     "output_type": "stream",
     "text": [
      "Epoch 23, CIFAR-10 Batch 1:  Loss = 0.0823, Validation Accuracy = 0.716200\n",
      "Epoch 23, CIFAR-10 Batch 2:  Loss = 0.1163, Validation Accuracy = 0.711600\n",
      "Epoch 23, CIFAR-10 Batch 3:  Loss = 0.0833, Validation Accuracy = 0.704800\n",
      "Epoch 23, CIFAR-10 Batch 4:  Loss = 0.0710, Validation Accuracy = 0.721200\n",
      "Epoch 23, CIFAR-10 Batch 5:  Loss = 0.0490, Validation Accuracy = 0.716400\n",
      "Epoch 24, CIFAR-10 Batch 1:  Loss = 0.0476, Validation Accuracy = 0.716600\n",
      "Epoch 24, CIFAR-10 Batch 2:  Loss = 0.0651, Validation Accuracy = 0.716800\n",
      "Epoch 24, CIFAR-10 Batch 3:  Loss = 0.0839, Validation Accuracy = 0.722000\n",
      "Epoch 24, CIFAR-10 Batch 4:  Loss = 0.0572, Validation Accuracy = 0.718600\n",
      "Epoch 24, CIFAR-10 Batch 5:  Loss = 0.0730, Validation Accuracy = 0.722400\n",
      "Epoch 25, CIFAR-10 Batch 1:  Loss = 0.0619, Validation Accuracy = 0.731400\n",
      "Epoch 25, CIFAR-10 Batch 2:  Loss = 0.0639, Validation Accuracy = 0.719000\n",
      "Epoch 25, CIFAR-10 Batch 3:  Loss = 0.0574, Validation Accuracy = 0.719400\n",
      "Epoch 25, CIFAR-10 Batch 4:  Loss = 0.0684, Validation Accuracy = 0.720600\n",
      "Epoch 25, CIFAR-10 Batch 5:  Loss = 0.0405, Validation Accuracy = 0.718200\n",
      "Epoch 26, CIFAR-10 Batch 1:  Loss = 0.0379, Validation Accuracy = 0.715800\n",
      "Epoch 26, CIFAR-10 Batch 2:  Loss = 0.0701, Validation Accuracy = 0.719200\n",
      "Epoch 26, CIFAR-10 Batch 3:  Loss = 0.0601, Validation Accuracy = 0.709600\n",
      "Epoch 26, CIFAR-10 Batch 4:  Loss = 0.0515, Validation Accuracy = 0.726800\n",
      "Epoch 26, CIFAR-10 Batch 5:  Loss = 0.0428, Validation Accuracy = 0.726400\n",
      "Epoch 27, CIFAR-10 Batch 1:  Loss = 0.0471, Validation Accuracy = 0.716200\n",
      "Epoch 27, CIFAR-10 Batch 2:  Loss = 0.0615, Validation Accuracy = 0.721000\n",
      "Epoch 27, CIFAR-10 Batch 3:  Loss = 0.0647, Validation Accuracy = 0.711000\n",
      "Epoch 27, CIFAR-10 Batch 4:  Loss = 0.0415, Validation Accuracy = 0.721200\n",
      "Epoch 27, CIFAR-10 Batch 5:  Loss = 0.0476, Validation Accuracy = 0.712000\n",
      "Epoch 28, CIFAR-10 Batch 1:  Loss = 0.0509, Validation Accuracy = 0.703600\n",
      "Epoch 28, CIFAR-10 Batch 2:  Loss = 0.0447, Validation Accuracy = 0.729400\n",
      "Epoch 28, CIFAR-10 Batch 3:  Loss = 0.0478, Validation Accuracy = 0.710400\n",
      "Epoch 28, CIFAR-10 Batch 4:  Loss = 0.0381, Validation Accuracy = 0.727200\n",
      "Epoch 28, CIFAR-10 Batch 5:  Loss = 0.0382, Validation Accuracy = 0.723000\n",
      "Epoch 29, CIFAR-10 Batch 1:  Loss = 0.0541, Validation Accuracy = 0.712600\n",
      "Epoch 29, CIFAR-10 Batch 2:  Loss = 0.0423, Validation Accuracy = 0.717000\n",
      "Epoch 29, CIFAR-10 Batch 3:  Loss = 0.0419, Validation Accuracy = 0.723600\n",
      "Epoch 29, CIFAR-10 Batch 4:  Loss = 0.0394, Validation Accuracy = 0.720400\n",
      "Epoch 29, CIFAR-10 Batch 5:  Loss = 0.0274, Validation Accuracy = 0.726400\n",
      "Epoch 30, CIFAR-10 Batch 1:  Loss = 0.0294, Validation Accuracy = 0.715800\n",
      "Epoch 30, CIFAR-10 Batch 2:  Loss = 0.0640, Validation Accuracy = 0.722000\n",
      "Epoch 30, CIFAR-10 Batch 3:  Loss = 0.0570, Validation Accuracy = 0.719200\n",
      "Epoch 30, CIFAR-10 Batch 4:  Loss = 0.0420, Validation Accuracy = 0.707200\n",
      "Epoch 30, CIFAR-10 Batch 5:  Loss = 0.0345, Validation Accuracy = 0.716000\n",
      "Epoch 31, CIFAR-10 Batch 1:  Loss = 0.0470, Validation Accuracy = 0.707200\n",
      "Epoch 31, CIFAR-10 Batch 2:  Loss = 0.0314, Validation Accuracy = 0.722200\n",
      "Epoch 31, CIFAR-10 Batch 3:  Loss = 0.0526, Validation Accuracy = 0.725200\n",
      "Epoch 31, CIFAR-10 Batch 4:  Loss = 0.0371, Validation Accuracy = 0.710600\n",
      "Epoch 31, CIFAR-10 Batch 5:  Loss = 0.0279, Validation Accuracy = 0.721400\n",
      "Epoch 32, CIFAR-10 Batch 1:  Loss = 0.0360, Validation Accuracy = 0.712200\n",
      "Epoch 32, CIFAR-10 Batch 2:  Loss = 0.0385, Validation Accuracy = 0.721200\n",
      "Epoch 32, CIFAR-10 Batch 3:  Loss = 0.0555, Validation Accuracy = 0.726400\n",
      "Epoch 32, CIFAR-10 Batch 4:  Loss = 0.0247, Validation Accuracy = 0.717400\n",
      "Epoch 32, CIFAR-10 Batch 5:  Loss = 0.0280, Validation Accuracy = 0.710400\n",
      "Epoch 33, CIFAR-10 Batch 1:  Loss = 0.0391, Validation Accuracy = 0.715600\n",
      "Epoch 33, CIFAR-10 Batch 2:  Loss = 0.0385, Validation Accuracy = 0.718600\n",
      "Epoch 33, CIFAR-10 Batch 3:  Loss = 0.0292, Validation Accuracy = 0.728000\n",
      "Epoch 33, CIFAR-10 Batch 4:  Loss = 0.0193, Validation Accuracy = 0.714000\n",
      "Epoch 33, CIFAR-10 Batch 5:  Loss = 0.0199, Validation Accuracy = 0.717000\n",
      "Epoch 34, CIFAR-10 Batch 1:  Loss = 0.0391, Validation Accuracy = 0.711800\n",
      "Epoch 34, CIFAR-10 Batch 2:  Loss = 0.0277, Validation Accuracy = 0.720800\n",
      "Epoch 34, CIFAR-10 Batch 3:  Loss = 0.0252, Validation Accuracy = 0.724400\n",
      "Epoch 34, CIFAR-10 Batch 4:  Loss = 0.0171, Validation Accuracy = 0.710800\n",
      "Epoch 34, CIFAR-10 Batch 5:  Loss = 0.0205, Validation Accuracy = 0.705600\n",
      "Epoch 35, CIFAR-10 Batch 1:  Loss = 0.0317, Validation Accuracy = 0.702400\n",
      "Epoch 35, CIFAR-10 Batch 2:  Loss = 0.0231, Validation Accuracy = 0.727400\n",
      "Epoch 35, CIFAR-10 Batch 3:  Loss = 0.0177, Validation Accuracy = 0.725400\n",
      "Epoch 35, CIFAR-10 Batch 4:  Loss = 0.0191, Validation Accuracy = 0.719200\n",
      "Epoch 35, CIFAR-10 Batch 5:  Loss = 0.0229, Validation Accuracy = 0.710800\n"
     ]
    }
   ],
   "source": [
    "save_model_path = './image_classification'\n",
    "\n",
    "print('Training...')\n",
    "with tf.Session() as sess:\n",
    "    # Initializing the variables\n",
    "    sess.run(tf.global_variables_initializer())\n",
    "    \n",
    "    # Training cycle\n",
    "    for epoch in range(epochs):\n",
    "        # Loop over all batches\n",
    "        n_batches = 5\n",
    "        for batch_i in range(1, n_batches + 1):\n",
    "            for batch_features, batch_labels in helper.load_preprocess_training_batch(batch_i, batch_size):\n",
    "                train_neural_network(sess, optimizer, keep_probability, batch_features, batch_labels)\n",
    "            print('Epoch {:>2}, CIFAR-10 Batch {}:  '.format(epoch + 1, batch_i), end='')\n",
    "            print_stats(sess, batch_features, batch_labels, cost, accuracy)\n",
    "            \n",
    "    # Save Model\n",
    "    saver = tf.train.Saver()\n",
    "    save_path = saver.save(sess, save_model_path)"
   ]
  },
  {
   "cell_type": "markdown",
   "metadata": {},
   "source": [
    "# 检查点\n",
    "\n",
    "模型已保存到本地。\n",
    "\n",
    "## 测试模型\n",
    "\n",
    "利用测试数据集测试你的模型。这将是最终的准确率。你的准确率应该高于 50%。如果没达到，请继续调整模型结构和参数。"
   ]
  },
  {
   "cell_type": "code",
   "execution_count": 18,
   "metadata": {},
   "outputs": [
    {
     "name": "stdout",
     "output_type": "stream",
     "text": [
      "INFO:tensorflow:Restoring parameters from ./image_classification\n",
      "Testing Accuracy: 0.7077729430379747\n",
      "\n"
     ]
    }
   ],
   "source": [
    "import tensorflow as tf\n",
    "import pickle\n",
    "import helper\n",
    "import random\n",
    "\n",
    "# Set batch size if not already set\n",
    "try:\n",
    "    if batch_size:\n",
    "        pass\n",
    "except NameError:\n",
    "    batch_size = 64\n",
    "\n",
    "save_model_path = './image_classification'\n",
    "n_samples = 4\n",
    "top_n_predictions = 3\n",
    "\n",
    "def test_model():\n",
    "    \"\"\"\n",
    "    Test the saved model against the test dataset\n",
    "    \"\"\"\n",
    "\n",
    "    test_features, test_labels = pickle.load(open('preprocess_test.p', mode='rb'))\n",
    "    loaded_graph = tf.Graph()\n",
    "\n",
    "    with tf.Session(graph=loaded_graph) as sess:\n",
    "        # Load model\n",
    "        loader = tf.train.import_meta_graph(save_model_path + '.meta')\n",
    "        loader.restore(sess, save_model_path)\n",
    "\n",
    "        # Get Tensors from loaded model\n",
    "        loaded_x = loaded_graph.get_tensor_by_name('x:0')\n",
    "        loaded_y = loaded_graph.get_tensor_by_name('y:0')\n",
    "        loaded_keep_prob = loaded_graph.get_tensor_by_name('keep_prob:0')\n",
    "        loaded_logits = loaded_graph.get_tensor_by_name('logits:0')\n",
    "        loaded_acc = loaded_graph.get_tensor_by_name('accuracy:0')\n",
    "        \n",
    "        # Get accuracy in batches for memory limitations\n",
    "        test_batch_acc_total = 0\n",
    "        test_batch_count = 0\n",
    "        \n",
    "        for test_feature_batch, test_label_batch in helper.batch_features_labels(test_features, test_labels, batch_size):\n",
    "            test_batch_acc_total += sess.run(\n",
    "                loaded_acc,\n",
    "                feed_dict={loaded_x: test_feature_batch, loaded_y: test_label_batch, loaded_keep_prob: 1.0})\n",
    "            test_batch_count += 1\n",
    "\n",
    "        print('Testing Accuracy: {}\\n'.format(test_batch_acc_total/test_batch_count))\n",
    "\n",
    "        # Print Random Samples\n",
    "        random_test_features, random_test_labels = tuple(zip(*random.sample(list(zip(test_features, test_labels)), n_samples)))\n",
    "        random_test_predictions = sess.run(\n",
    "            tf.nn.top_k(tf.nn.softmax(loaded_logits), top_n_predictions),\n",
    "            feed_dict={loaded_x: random_test_features, loaded_y: random_test_labels, loaded_keep_prob: 1.0})\n",
    "        helper.display_image_predictions(random_test_features, random_test_labels, random_test_predictions)\n",
    "\n",
    "\n",
    "test_model()"
   ]
  },
  {
   "cell_type": "markdown",
   "metadata": {},
   "source": [
    "## 准确率怎么样\n",
    "\n",
    "在这里准确率只有70%左右，为何准确率不能更高了？首先，对于简单的 CNN 网络来说，７0% 已经不低了。纯粹猜测的准确率为10%。但是，你可能注意到有人的准确率远远超过80%，(http://rodrigob.github.io/are_we_there_yet/build/classification_datasets_results.html#43494641522d3130)。这是因为我们我们还需要掌握一些其他的技巧。\n"
   ]
  },
  {
   "cell_type": "code",
   "execution_count": null,
   "metadata": {},
   "outputs": [],
   "source": []
  }
 ],
 "metadata": {
  "kernelspec": {
   "display_name": "Python 3",
   "language": "python",
   "name": "python3"
  },
  "language_info": {
   "codemirror_mode": {
    "name": "ipython",
    "version": 3
   },
   "file_extension": ".py",
   "mimetype": "text/x-python",
   "name": "python",
   "nbconvert_exporter": "python",
   "pygments_lexer": "ipython3",
   "version": "3.5.2"
  }
 },
 "nbformat": 4,
 "nbformat_minor": 1
}
